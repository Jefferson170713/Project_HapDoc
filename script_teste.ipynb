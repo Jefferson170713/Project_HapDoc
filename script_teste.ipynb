{
 "cells": [
  {
   "cell_type": "markdown",
   "metadata": {},
   "source": [
    "### 1 - Leitura do __arquivo__ para compreensão da situação problema.\n",
    "   - ler o arquivo.\n",
    "   - Mostrar a quantidade de linhas e conlunas.\n",
    "   - mostrar as primeiroas linhas."
   ]
  },
  {
   "cell_type": "code",
   "execution_count": null,
   "metadata": {},
   "outputs": [],
   "source": [
    "# importando as bibliotecas necessárias\n",
    "import pandas as pd\n",
    "import numpy as np\n",
    "\n",
    "# lendo o arquivo\n",
    "df = pd.read_csv(r'', sep=';', encoding='latin1', low_memory=False)\n",
    "# mostrando a quantidade de linhas e colunas\n",
    "print(f'Quantidade de linhas e colunas: {df.shape}')\n",
    "# Mostrando as colunas\n",
    "print(f'Colunas: \\n {df.columns}')\n",
    "# Mostrando as primeiras linhas\n",
    "df.head(3)"
   ]
  }
 ],
 "metadata": {
  "kernelspec": {
   "display_name": "venv",
   "language": "python",
   "name": "python3"
  },
  "language_info": {
   "name": "python",
   "version": "3.12.6"
  }
 },
 "nbformat": 4,
 "nbformat_minor": 2
}
